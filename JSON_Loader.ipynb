{
  "nbformat": 4,
  "nbformat_minor": 0,
  "metadata": {
    "colab": {
      "provenance": [],
      "authorship_tag": "ABX9TyMusSm6UbEDs2cwekWApzZf",
      "include_colab_link": true
    },
    "kernelspec": {
      "name": "python3",
      "display_name": "Python 3"
    },
    "language_info": {
      "name": "python"
    }
  },
  "cells": [
    {
      "cell_type": "markdown",
      "metadata": {
        "id": "view-in-github",
        "colab_type": "text"
      },
      "source": [
        "<a href=\"https://colab.research.google.com/github/SingularityNET-Archive/LLM-Development/blob/main/JSON_Loader.ipynb\" target=\"_parent\"><img src=\"https://colab.research.google.com/assets/colab-badge.svg\" alt=\"Open In Colab\"/></a>"
      ]
    },
    {
      "cell_type": "markdown",
      "source": [
        "## Sample code for loading JSON files into Langchain\n",
        "\n",
        "See https://python.langchain.com/docs/modules/data_connection/document_loaders/json/#json-lines-file for Langchain's JSON documentation"
      ],
      "metadata": {
        "id": "mx5u-axpYNUk"
      }
    },
    {
      "cell_type": "markdown",
      "source": [
        "Install requirements"
      ],
      "metadata": {
        "id": "FI4uiC_lYd2T"
      }
    },
    {
      "cell_type": "code",
      "source": [
        "!pip install python-dotenv langchain langchain_openai pypd faiss-cpu"
      ],
      "metadata": {
        "id": "dIkHFXqNHUoF"
      },
      "execution_count": null,
      "outputs": []
    },
    {
      "cell_type": "code",
      "source": [
        "!pip install jq"
      ],
      "metadata": {
        "id": "u7nwnA8HIA5P"
      },
      "execution_count": null,
      "outputs": []
    },
    {
      "cell_type": "code",
      "source": [
        "from langchain_community.document_loaders import JSONLoader"
      ],
      "metadata": {
        "id": "urpN7r-XIJeN"
      },
      "execution_count": 10,
      "outputs": []
    },
    {
      "cell_type": "markdown",
      "source": [
        "Simple import and print via local file path"
      ],
      "metadata": {
        "id": "l_dIIvFlYnwF"
      }
    },
    {
      "cell_type": "code",
      "source": [
        "import json\n",
        "from pathlib import Path\n",
        "from pprint import pprint\n",
        "\n",
        "\n",
        "file_path='/content/meeting-summaries-array.json'\n",
        "data = json.loads(Path(file_path).read_text())"
      ],
      "metadata": {
        "id": "iF7tsdIXIPXW"
      },
      "execution_count": 15,
      "outputs": []
    },
    {
      "cell_type": "code",
      "source": [
        "pprint(data)"
      ],
      "metadata": {
        "id": "CuSB2J3fIhdT"
      },
      "execution_count": null,
      "outputs": []
    },
    {
      "cell_type": "code",
      "source": [
        "file_path='/content/meeting-summaries-array.json'\n",
        "pprint(Path(file_path).read_text())"
      ],
      "metadata": {
        "id": "Xo9apJceKlsF"
      },
      "execution_count": null,
      "outputs": []
    },
    {
      "cell_type": "markdown",
      "source": [
        "Constrain input with Schema"
      ],
      "metadata": {
        "id": "b77M76oTY3cq"
      }
    },
    {
      "cell_type": "code",
      "source": [
        "loader = JSONLoader(\n",
        "    file_path='/content/meeting-summaries-array.json',\n",
        "    jq_schema='.[].workgroup',\n",
        "    text_content=False)\n",
        "\n",
        "data = loader.load()"
      ],
      "metadata": {
        "id": "F933Vy_aUZ4K"
      },
      "execution_count": 55,
      "outputs": []
    },
    {
      "cell_type": "code",
      "source": [
        "pprint(data)"
      ],
      "metadata": {
        "colab": {
          "base_uri": "https://localhost:8080/"
        },
        "id": "EO-ujlRmUmKE",
        "outputId": "a39d083b-91cc-461e-90a2-aca1ce8418f9"
      },
      "execution_count": 56,
      "outputs": [
        {
          "output_type": "stream",
          "name": "stdout",
          "text": [
            "[Document(page_content='Knowledge Base Workgroup', metadata={'source': '/content/meeting-summaries-array.json', 'seq_num': 1}),\n",
            " Document(page_content='Treasury Guild', metadata={'source': '/content/meeting-summaries-array.json', 'seq_num': 2}),\n",
            " Document(page_content='Onboarding Workgroup', metadata={'source': '/content/meeting-summaries-array.json', 'seq_num': 3}),\n",
            " Document(page_content='Education Workgroup', metadata={'source': '/content/meeting-summaries-array.json', 'seq_num': 4}),\n",
            " Document(page_content='Dework PBL', metadata={'source': '/content/meeting-summaries-array.json', 'seq_num': 5}),\n",
            " Document(page_content='Education Workgroup', metadata={'source': '/content/meeting-summaries-array.json', 'seq_num': 6}),\n",
            " Document(page_content='Video Workgroup', metadata={'source': '/content/meeting-summaries-array.json', 'seq_num': 7}),\n",
            " Document(page_content='Video Workgroup', metadata={'source': '/content/meeting-summaries-array.json', 'seq_num': 8}),\n",
            " Document(page_content='Gamers Guild', metadata={'source': '/content/meeting-summaries-array.json', 'seq_num': 9}),\n",
            " Document(page_content='Knowledge Base Workgroup', metadata={'source': '/content/meeting-summaries-array.json', 'seq_num': 10}),\n",
            " Document(page_content='Treasury Guild', metadata={'source': '/content/meeting-summaries-array.json', 'seq_num': 11}),\n",
            " Document(page_content='Video Workgroup', metadata={'source': '/content/meeting-summaries-array.json', 'seq_num': 12}),\n",
            " Document(page_content='Archives Workgroup', metadata={'source': '/content/meeting-summaries-array.json', 'seq_num': 13}),\n",
            " Document(page_content='Onboarding Workgroup', metadata={'source': '/content/meeting-summaries-array.json', 'seq_num': 14}),\n",
            " Document(page_content='Education Workgroup', metadata={'source': '/content/meeting-summaries-array.json', 'seq_num': 15}),\n",
            " Document(page_content='Education Workgroup', metadata={'source': '/content/meeting-summaries-array.json', 'seq_num': 16}),\n",
            " Document(page_content='Video Workgroup', metadata={'source': '/content/meeting-summaries-array.json', 'seq_num': 17}),\n",
            " Document(page_content='Marketing Guild', metadata={'source': '/content/meeting-summaries-array.json', 'seq_num': 18}),\n",
            " Document(page_content='Archives Workgroup', metadata={'source': '/content/meeting-summaries-array.json', 'seq_num': 19}),\n",
            " Document(page_content='Archives Workgroup', metadata={'source': '/content/meeting-summaries-array.json', 'seq_num': 20}),\n",
            " Document(page_content='Gamers Guild', metadata={'source': '/content/meeting-summaries-array.json', 'seq_num': 21}),\n",
            " Document(page_content='Knowledge Base Workgroup', metadata={'source': '/content/meeting-summaries-array.json', 'seq_num': 22}),\n",
            " Document(page_content='Research and Development Guild', metadata={'source': '/content/meeting-summaries-array.json', 'seq_num': 23}),\n",
            " Document(page_content='Research and Development Guild', metadata={'source': '/content/meeting-summaries-array.json', 'seq_num': 24}),\n",
            " Document(page_content='Research and Development Guild', metadata={'source': '/content/meeting-summaries-array.json', 'seq_num': 25}),\n",
            " Document(page_content='Research and Development Guild', metadata={'source': '/content/meeting-summaries-array.json', 'seq_num': 26}),\n",
            " Document(page_content='Education Workgroup', metadata={'source': '/content/meeting-summaries-array.json', 'seq_num': 27}),\n",
            " Document(page_content='Marketing Guild', metadata={'source': '/content/meeting-summaries-array.json', 'seq_num': 28}),\n",
            " Document(page_content='Video Workgroup', metadata={'source': '/content/meeting-summaries-array.json', 'seq_num': 29}),\n",
            " Document(page_content='Ambassador Town Hall', metadata={'source': '/content/meeting-summaries-array.json', 'seq_num': 30}),\n",
            " Document(page_content='Ambassador Town Hall', metadata={'source': '/content/meeting-summaries-array.json', 'seq_num': 31}),\n",
            " Document(page_content='Ambassador Town Hall', metadata={'source': '/content/meeting-summaries-array.json', 'seq_num': 32}),\n",
            " Document(page_content='Ambassador Town Hall', metadata={'source': '/content/meeting-summaries-array.json', 'seq_num': 33}),\n",
            " Document(page_content='Ambassador Town Hall', metadata={'source': '/content/meeting-summaries-array.json', 'seq_num': 34}),\n",
            " Document(page_content='Ambassador Town Hall', metadata={'source': '/content/meeting-summaries-array.json', 'seq_num': 35}),\n",
            " Document(page_content='Ambassador Town Hall', metadata={'source': '/content/meeting-summaries-array.json', 'seq_num': 36}),\n",
            " Document(page_content='Deep Funding Town Hall', metadata={'source': '/content/meeting-summaries-array.json', 'seq_num': 37}),\n",
            " Document(page_content='Deep Funding Town Hall', metadata={'source': '/content/meeting-summaries-array.json', 'seq_num': 38}),\n",
            " Document(page_content='Treasury Guild', metadata={'source': '/content/meeting-summaries-array.json', 'seq_num': 39}),\n",
            " Document(page_content='Onboarding Workgroup', metadata={'source': '/content/meeting-summaries-array.json', 'seq_num': 40}),\n",
            " Document(page_content='Video Workgroup', metadata={'source': '/content/meeting-summaries-array.json', 'seq_num': 41}),\n",
            " Document(page_content='Gamers Guild', metadata={'source': '/content/meeting-summaries-array.json', 'seq_num': 42}),\n",
            " Document(page_content='Education Workgroup', metadata={'source': '/content/meeting-summaries-array.json', 'seq_num': 43}),\n",
            " Document(page_content='Onboarding Workgroup', metadata={'source': '/content/meeting-summaries-array.json', 'seq_num': 44}),\n",
            " Document(page_content='Onboarding Workgroup', metadata={'source': '/content/meeting-summaries-array.json', 'seq_num': 45}),\n",
            " Document(page_content='Treasury Guild', metadata={'source': '/content/meeting-summaries-array.json', 'seq_num': 46}),\n",
            " Document(page_content='Education Workgroup', metadata={'source': '/content/meeting-summaries-array.json', 'seq_num': 47}),\n",
            " Document(page_content='Marketing Guild', metadata={'source': '/content/meeting-summaries-array.json', 'seq_num': 48}),\n",
            " Document(page_content='Video Workgroup', metadata={'source': '/content/meeting-summaries-array.json', 'seq_num': 49}),\n",
            " Document(page_content='Archives Workgroup', metadata={'source': '/content/meeting-summaries-array.json', 'seq_num': 50}),\n",
            " Document(page_content='Writers Workgroup', metadata={'source': '/content/meeting-summaries-array.json', 'seq_num': 51}),\n",
            " Document(page_content='Writers Workgroup', metadata={'source': '/content/meeting-summaries-array.json', 'seq_num': 52}),\n",
            " Document(page_content='Writers Workgroup', metadata={'source': '/content/meeting-summaries-array.json', 'seq_num': 53}),\n",
            " Document(page_content='Writers Workgroup', metadata={'source': '/content/meeting-summaries-array.json', 'seq_num': 54}),\n",
            " Document(page_content='Writers Workgroup', metadata={'source': '/content/meeting-summaries-array.json', 'seq_num': 55}),\n",
            " Document(page_content='Writers Workgroup', metadata={'source': '/content/meeting-summaries-array.json', 'seq_num': 56}),\n",
            " Document(page_content='Writers Workgroup', metadata={'source': '/content/meeting-summaries-array.json', 'seq_num': 57}),\n",
            " Document(page_content='Education Workgroup', metadata={'source': '/content/meeting-summaries-array.json', 'seq_num': 58}),\n",
            " Document(page_content='Marketing Guild', metadata={'source': '/content/meeting-summaries-array.json', 'seq_num': 59}),\n",
            " Document(page_content='Gamers Guild', metadata={'source': '/content/meeting-summaries-array.json', 'seq_num': 60}),\n",
            " Document(page_content='Video Workgroup', metadata={'source': '/content/meeting-summaries-array.json', 'seq_num': 61}),\n",
            " Document(page_content='Onboarding Workgroup', metadata={'source': '/content/meeting-summaries-array.json', 'seq_num': 62}),\n",
            " Document(page_content='Archives Workgroup', metadata={'source': '/content/meeting-summaries-array.json', 'seq_num': 63}),\n",
            " Document(page_content='Dework PBL', metadata={'source': '/content/meeting-summaries-array.json', 'seq_num': 64}),\n",
            " Document(page_content='Knowledge Base Workgroup', metadata={'source': '/content/meeting-summaries-array.json', 'seq_num': 65}),\n",
            " Document(page_content='Video Workgroup', metadata={'source': '/content/meeting-summaries-array.json', 'seq_num': 66}),\n",
            " Document(page_content='Onboarding Workgroup', metadata={'source': '/content/meeting-summaries-array.json', 'seq_num': 67}),\n",
            " Document(page_content='Education Workgroup', metadata={'source': '/content/meeting-summaries-array.json', 'seq_num': 68}),\n",
            " Document(page_content='Treasury Guild', metadata={'source': '/content/meeting-summaries-array.json', 'seq_num': 69}),\n",
            " Document(page_content='Governance Workgroup', metadata={'source': '/content/meeting-summaries-array.json', 'seq_num': 70}),\n",
            " Document(page_content='Dework PBL', metadata={'source': '/content/meeting-summaries-array.json', 'seq_num': 71}),\n",
            " Document(page_content='Research and Development Guild', metadata={'source': '/content/meeting-summaries-array.json', 'seq_num': 72}),\n",
            " Document(page_content='Education Workgroup', metadata={'source': '/content/meeting-summaries-array.json', 'seq_num': 73}),\n",
            " Document(page_content='Gamers Guild', metadata={'source': '/content/meeting-summaries-array.json', 'seq_num': 74}),\n",
            " Document(page_content='Video Workgroup', metadata={'source': '/content/meeting-summaries-array.json', 'seq_num': 75}),\n",
            " Document(page_content='Research and Development Guild', metadata={'source': '/content/meeting-summaries-array.json', 'seq_num': 76}),\n",
            " Document(page_content='Onboarding Workgroup', metadata={'source': '/content/meeting-summaries-array.json', 'seq_num': 77}),\n",
            " Document(page_content='Onboarding Workgroup', metadata={'source': '/content/meeting-summaries-array.json', 'seq_num': 78}),\n",
            " Document(page_content='Video Workgroup', metadata={'source': '/content/meeting-summaries-array.json', 'seq_num': 79}),\n",
            " Document(page_content='Treasury Guild', metadata={'source': '/content/meeting-summaries-array.json', 'seq_num': 80}),\n",
            " Document(page_content='Education Workgroup', metadata={'source': '/content/meeting-summaries-array.json', 'seq_num': 81}),\n",
            " Document(page_content='Archives Workgroup', metadata={'source': '/content/meeting-summaries-array.json', 'seq_num': 82}),\n",
            " Document(page_content='Dework PBL', metadata={'source': '/content/meeting-summaries-array.json', 'seq_num': 83}),\n",
            " Document(page_content='Research and Development Guild', metadata={'source': '/content/meeting-summaries-array.json', 'seq_num': 84}),\n",
            " Document(page_content='Video Workgroup', metadata={'source': '/content/meeting-summaries-array.json', 'seq_num': 85}),\n",
            " Document(page_content='Education Workgroup', metadata={'source': '/content/meeting-summaries-array.json', 'seq_num': 86}),\n",
            " Document(page_content='Writers Workgroup', metadata={'source': '/content/meeting-summaries-array.json', 'seq_num': 87}),\n",
            " Document(page_content='Knowledge Base Workgroup', metadata={'source': '/content/meeting-summaries-array.json', 'seq_num': 88}),\n",
            " Document(page_content='Gamers Guild', metadata={'source': '/content/meeting-summaries-array.json', 'seq_num': 89}),\n",
            " Document(page_content='Onboarding Workgroup', metadata={'source': '/content/meeting-summaries-array.json', 'seq_num': 90}),\n",
            " Document(page_content='Onboarding Workgroup', metadata={'source': '/content/meeting-summaries-array.json', 'seq_num': 91}),\n",
            " Document(page_content='Ambassador Town Hall', metadata={'source': '/content/meeting-summaries-array.json', 'seq_num': 92}),\n",
            " Document(page_content='Ambassador Town Hall', metadata={'source': '/content/meeting-summaries-array.json', 'seq_num': 93}),\n",
            " Document(page_content='Deep Funding Town Hall', metadata={'source': '/content/meeting-summaries-array.json', 'seq_num': 94}),\n",
            " Document(page_content='Deep Funding Town Hall', metadata={'source': '/content/meeting-summaries-array.json', 'seq_num': 95}),\n",
            " Document(page_content='Deep Funding Town Hall', metadata={'source': '/content/meeting-summaries-array.json', 'seq_num': 96}),\n",
            " Document(page_content='Deep Funding Town Hall', metadata={'source': '/content/meeting-summaries-array.json', 'seq_num': 97}),\n",
            " Document(page_content='Archives Workgroup', metadata={'source': '/content/meeting-summaries-array.json', 'seq_num': 98}),\n",
            " Document(page_content='Research and Development Guild', metadata={'source': '/content/meeting-summaries-array.json', 'seq_num': 99}),\n",
            " Document(page_content='Research and Development Guild', metadata={'source': '/content/meeting-summaries-array.json', 'seq_num': 100})]\n"
          ]
        }
      ]
    }
  ]
}